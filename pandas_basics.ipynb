{
 "cells": [
  {
   "cell_type": "code",
   "execution_count": 1,
   "metadata": {},
   "outputs": [],
   "source": [
    "import pandas as pd"
   ]
  },
  {
   "cell_type": "code",
   "execution_count": 3,
   "metadata": {},
   "outputs": [
    {
     "name": "stdout",
     "output_type": "stream",
     "text": [
      "   salary  age\n",
      "0     100   25\n",
      "1     200   30\n",
      "2     300   35\n",
      "3     400   40\n",
      "4     500   45\n"
     ]
    }
   ],
   "source": [
    "data = {\n",
    "    \"salary\": [100, 200, 300, 400, 500],\n",
    "    \"age\": [25, 30, 35, 40, 45]\n",
    "}\n",
    "\n",
    "df  = pd.DataFrame(data)\n",
    "print(df)"
   ]
  },
  {
   "cell_type": "code",
   "execution_count": 6,
   "metadata": {},
   "outputs": [
    {
     "name": "stdout",
     "output_type": "stream",
     "text": [
      "salary    100\n",
      "age        25\n",
      "Name: 0, dtype: int64\n",
      "salary    100\n",
      "age        25\n",
      "Name: 0, dtype: int64\n"
     ]
    }
   ],
   "source": [
    "print(df.iloc[0])\n",
    "print(df.loc[0])"
   ]
  },
  {
   "cell_type": "code",
   "execution_count": 9,
   "metadata": {},
   "outputs": [
    {
     "name": "stdout",
     "output_type": "stream",
     "text": [
      "   salary  age\n",
      "0     100   25\n",
      "1     200   30\n"
     ]
    }
   ],
   "source": [
    "print(df.loc[[0,1]])"
   ]
  },
  {
   "cell_type": "code",
   "execution_count": 11,
   "metadata": {},
   "outputs": [
    {
     "name": "stdout",
     "output_type": "stream",
     "text": [
      "          age name\n",
      "person 1   43   JK\n",
      "person 2   12   FK\n",
      "person 3   33   JF\n"
     ]
    }
   ],
   "source": [
    "data1 = {\n",
    "    \"age\" : [43,12,33],\n",
    "    \"name\" :['JK','FK','JF']\n",
    "}\n",
    "\n",
    "df1 = pd.DataFrame(data1 , index=['person 1' , 'person 2'  , 'person 3'])\n",
    "\n",
    "print(df1)"
   ]
  },
  {
   "cell_type": "code",
   "execution_count": 12,
   "metadata": {},
   "outputs": [
    {
     "name": "stdout",
     "output_type": "stream",
     "text": [
      "age     12\n",
      "name    FK\n",
      "Name: person 2, dtype: object\n"
     ]
    }
   ],
   "source": [
    "print(df1.loc['person 2'])"
   ]
  },
  {
   "cell_type": "code",
   "execution_count": 15,
   "metadata": {},
   "outputs": [
    {
     "data": {
      "text/plain": [
       "0    1\n",
       "1    6\n",
       "2    9\n",
       "3    3\n",
       "dtype: int64"
      ]
     },
     "execution_count": 15,
     "metadata": {},
     "output_type": "execute_result"
    }
   ],
   "source": [
    "series1 = [1,6,9,3]\n",
    "\n",
    "s = pd.Series(series1)\n",
    "s"
   ]
  },
  {
   "cell_type": "code",
   "execution_count": 16,
   "metadata": {},
   "outputs": [
    {
     "data": {
      "text/plain": [
       "0       6\n",
       "1    sddf\n",
       "2       8\n",
       "3       2\n",
       "4       7\n",
       "5     fth\n",
       "dtype: object"
      ]
     },
     "execution_count": 16,
     "metadata": {},
     "output_type": "execute_result"
    }
   ],
   "source": [
    "series2 = pd.Series([6,'sddf',8,2,7,'fth'])\n",
    "series2"
   ]
  },
  {
   "cell_type": "code",
   "execution_count": 21,
   "metadata": {},
   "outputs": [
    {
     "name": "stdout",
     "output_type": "stream",
     "text": [
      "id          [5, 8, 3, 1]\n",
      "name    [JF, FK, JT, TJ]\n",
      "dtype: object\n"
     ]
    }
   ],
   "source": [
    "data2 = {\n",
    "    \"id\" : [5,8,3,1],\n",
    "    \"name\": ['JF','FK','JT','TJ']\n",
    "    }\n",
    "\n",
    "series3 = pd.Series(data2)\n",
    "print(series3)"
   ]
  },
  {
   "cell_type": "code",
   "execution_count": 28,
   "metadata": {},
   "outputs": [
    {
     "name": "stdout",
     "output_type": "stream",
     "text": [
      "1     JK\n",
      "23    FK\n",
      "45    JF\n",
      "67    TJ\n",
      "dtype: object\n"
     ]
    }
   ],
   "source": [
    "data3 = { 1 : \"JK\", 23 : \"FK\", 45 : \"JF\", '67' : \"TJ\"\n",
    "    }\n",
    "\n",
    "series4 = pd.Series(data3)\n",
    "print(series4)"
   ]
  },
  {
   "cell_type": "code",
   "execution_count": 30,
   "metadata": {},
   "outputs": [
    {
     "name": "stdout",
     "output_type": "stream",
     "text": [
      "TJ\n"
     ]
    }
   ],
   "source": [
    "print(series4['67'])"
   ]
  },
  {
   "cell_type": "code",
   "execution_count": 31,
   "metadata": {},
   "outputs": [
    {
     "name": "stdout",
     "output_type": "stream",
     "text": [
      "   Duration  Pulse  Maxpulse  Calories\n",
      "0        60    110       130       409\n",
      "1        60    117       145       479\n",
      "2        60    103       135       340\n",
      "3        45    109       175       282\n",
      "4        45    117       148       406\n",
      "5        60    102       127       300\n"
     ]
    }
   ],
   "source": [
    "data4 = {\n",
    "  \"Duration\":{\n",
    "    \"0\":60,\n",
    "    \"1\":60,\n",
    "    \"2\":60,\n",
    "    \"3\":45,\n",
    "    \"4\":45,\n",
    "    \"5\":60\n",
    "  },\n",
    "  \"Pulse\":{\n",
    "    \"0\":110,\n",
    "    \"1\":117,\n",
    "    \"2\":103,\n",
    "    \"3\":109,\n",
    "    \"4\":117,\n",
    "    \"5\":102\n",
    "  },\n",
    "  \"Maxpulse\":{\n",
    "    \"0\":130,\n",
    "    \"1\":145,\n",
    "    \"2\":135,\n",
    "    \"3\":175,\n",
    "    \"4\":148,\n",
    "    \"5\":127\n",
    "  },\n",
    "  \"Calories\":{\n",
    "    \"0\":409,\n",
    "    \"1\":479,\n",
    "    \"2\":340,\n",
    "    \"3\":282,\n",
    "    \"4\":406,\n",
    "    \"5\":300\n",
    "  }\n",
    "}\n",
    "\n",
    "df3 = pd.DataFrame(data4)\n",
    "\n",
    "print(df3) "
   ]
  },
  {
   "cell_type": "code",
   "execution_count": 33,
   "metadata": {},
   "outputs": [
    {
     "name": "stdout",
     "output_type": "stream",
     "text": [
      "   Joshi   Karan  Felix\n",
      "0    123    2323  13523\n",
      "1    456  412356  44556\n",
      "2    789    7389  77789\n"
     ]
    }
   ],
   "source": [
    "data3 = {\n",
    "    \"Joshi\" : {\n",
    "        \"0\" : 123,\n",
    "        \"1\" : 456,\n",
    "        \"2\" : 789\n",
    "    },\n",
    "    \"Karan\" : {\n",
    "        \"0\" : 2323,\n",
    "        \"1\" : 412356,\n",
    "        \"2\" : 7389\n",
    "    },\n",
    "    \"Felix\" : {\n",
    "        \"0\" : 13523,\n",
    "        \"1\" : 44556,\n",
    "        \"2\" : 77789\n",
    "    }\n",
    "}\n",
    "\n",
    "df4 = pd.DataFrame(data3)\n",
    "print(df4)"
   ]
  },
  {
   "cell_type": "code",
   "execution_count": null,
   "metadata": {},
   "outputs": [],
   "source": []
  }
 ],
 "metadata": {
  "kernelspec": {
   "display_name": ".venv",
   "language": "python",
   "name": "python3"
  },
  "language_info": {
   "codemirror_mode": {
    "name": "ipython",
    "version": 3
   },
   "file_extension": ".py",
   "mimetype": "text/x-python",
   "name": "python",
   "nbconvert_exporter": "python",
   "pygments_lexer": "ipython3",
   "version": "3.12.2"
  }
 },
 "nbformat": 4,
 "nbformat_minor": 2
}
