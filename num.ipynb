{
 "cells": [
  {
   "cell_type": "code",
   "execution_count": 6,
   "metadata": {},
   "outputs": [],
   "source": [
    "import numpy as np"
   ]
  },
  {
   "cell_type": "code",
   "execution_count": 5,
   "metadata": {},
   "outputs": [
    {
     "name": "stdout",
     "output_type": "stream",
     "text": [
      "[1 5 3]\n"
     ]
    }
   ],
   "source": [
    "my_array1 = np.array([1,5,3], np.int8)\n",
    "print(my_array1)"
   ]
  },
  {
   "cell_type": "code",
   "execution_count": 7,
   "metadata": {},
   "outputs": [
    {
     "name": "stdout",
     "output_type": "stream",
     "text": [
      "[5 6 7]\n",
      "6\n"
     ]
    }
   ],
   "source": [
    "\n",
    "arr = np.array([5,6,7], np.int8)\n",
    "print(arr)\n",
    "print(arr[1])"
   ]
  },
  {
   "cell_type": "code",
   "execution_count": 8,
   "metadata": {},
   "outputs": [
    {
     "name": "stdout",
     "output_type": "stream",
     "text": [
      "[[1 6 3]\n",
      " [4 7 8]\n",
      " [9 7 8]]\n",
      "7\n",
      "[9 7 8]\n",
      "(3,)\n",
      "(3, 3)\n"
     ]
    }
   ],
   "source": [
    "arr2 = np.array([[1,6,3],[4,7,8],[9,7,8]])\n",
    "arr3= np.array([[[9,7,5],[7,5,1],[6,4,5]]])\n",
    "\n",
    "print(arr2)\n",
    "print(arr2[2,1])\n",
    "print(arr2[2])\n",
    "\n",
    "print(arr.shape) #1D array with 3 length\n",
    "print(arr2.shape) #2d array with 3 columns and 3 rows"
   ]
  },
  {
   "cell_type": "code",
   "execution_count": 10,
   "metadata": {},
   "outputs": [
    {
     "name": "stdout",
     "output_type": "stream",
     "text": [
      "[[0. 0. 0.]\n",
      " [0. 0. 0.]\n",
      " [0. 0. 0.]]\n"
     ]
    }
   ],
   "source": [
    "\n",
    "zeros = np.zeros([3,3])\n",
    "print(zeros)"
   ]
  },
  {
   "cell_type": "code",
   "execution_count": 11,
   "metadata": {},
   "outputs": [
    {
     "name": "stdout",
     "output_type": "stream",
     "text": [
      "[0 1 2 3 4 5 6 7 8 9]\n"
     ]
    }
   ],
   "source": [
    "range = np.arange(10)\n",
    "print(range)"
   ]
  },
  {
   "cell_type": "code",
   "execution_count": 12,
   "metadata": {},
   "outputs": [
    {
     "name": "stdout",
     "output_type": "stream",
     "text": [
      "[ 1. 10.]\n",
      "[[1 4 9]\n",
      " [6 7 7]\n",
      " [3 8 8]]\n",
      "3\n"
     ]
    }
   ],
   "source": [
    "lspace = np.linspace(1,10,2)\n",
    "print(lspace)\n",
    "\n",
    "print(arr2.T)\n",
    "print(arr3.ndim)"
   ]
  },
  {
   "cell_type": "code",
   "execution_count": 13,
   "metadata": {},
   "outputs": [
    {
     "name": "stdout",
     "output_type": "stream",
     "text": [
      "[[1 9]\n",
      " [4 6]\n",
      " [2 5]]\n",
      "[[1 9 4]\n",
      " [6 2 5]]\n"
     ]
    }
   ],
   "source": [
    "arr4 = np.array([[1,9],[4,6],[2,5]])\n",
    "print(arr4)\n",
    "arr4 = arr4.reshape(2,3)\n",
    "print(arr4)"
   ]
  },
  {
   "cell_type": "code",
   "execution_count": 19,
   "metadata": {},
   "outputs": [
    {
     "name": "stdout",
     "output_type": "stream",
     "text": [
      "2322.2323\n"
     ]
    }
   ],
   "source": [
    "print(np.loadtxt('text.txt'))"
   ]
  },
  {
   "cell_type": "code",
   "execution_count": 20,
   "metadata": {},
   "outputs": [
    {
     "name": "stdout",
     "output_type": "stream",
     "text": [
      "[1 6 3 4 7 8 9 7 8]\n"
     ]
    }
   ],
   "source": [
    "print(arr2.ravel())"
   ]
  },
  {
   "cell_type": "code",
   "execution_count": 33,
   "metadata": {},
   "outputs": [
    {
     "name": "stdout",
     "output_type": "stream",
     "text": [
      "[False False False False False False False False  True False False False\n",
      "  True]\n",
      "[False False False False False False False False False False False False\n",
      " False]\n",
      "[ True False  True  True False False False  True  True False False False\n",
      "  True]\n"
     ]
    }
   ],
   "source": [
    "arrays = np.array([6,5,7,9,4,2,5,7,8,4,2,5,8])\n",
    "\n",
    "print(arrays == 8)\n",
    "print(arrays < 0)\n",
    "print(arrays > 5)"
   ]
  },
  {
   "cell_type": "code",
   "execution_count": 36,
   "metadata": {},
   "outputs": [
    {
     "name": "stdout",
     "output_type": "stream",
     "text": [
      "[9 8 8]\n"
     ]
    }
   ],
   "source": [
    "print(arrays[arrays>7])"
   ]
  },
  {
   "cell_type": "code",
   "execution_count": 39,
   "metadata": {},
   "outputs": [
    {
     "data": {
      "text/plain": [
       "array([3, 8, 8])"
      ]
     },
     "execution_count": 39,
     "metadata": {},
     "output_type": "execute_result"
    }
   ],
   "source": [
    "arr2[:,2]"
   ]
  },
  {
   "cell_type": "code",
   "execution_count": 41,
   "metadata": {},
   "outputs": [
    {
     "name": "stdout",
     "output_type": "stream",
     "text": [
      "[[6 9 8 7]\n",
      " [1 7 2 3]\n",
      " [4 2 1 6]]\n"
     ]
    }
   ],
   "source": [
    "array1 = np.array([[6,9,8,7],[1,7,2,3],[4,2,1,6]])\n",
    "print(array1)"
   ]
  },
  {
   "cell_type": "code",
   "execution_count": 43,
   "metadata": {},
   "outputs": [
    {
     "name": "stdout",
     "output_type": "stream",
     "text": [
      "[[6 9 8 7]\n",
      " [1 7 5 3]\n",
      " [4 2 1 6]]\n"
     ]
    }
   ],
   "source": [
    "#replacing an element in an array using slicing\n",
    "array1[1,2] = 5\n",
    "print(array1)"
   ]
  },
  {
   "cell_type": "code",
   "execution_count": 48,
   "metadata": {},
   "outputs": [
    {
     "name": "stdout",
     "output_type": "stream",
     "text": [
      "12\n"
     ]
    }
   ],
   "source": [
    "print(array1.size)"
   ]
  },
  {
   "cell_type": "code",
   "execution_count": 55,
   "metadata": {},
   "outputs": [
    {
     "name": "stdout",
     "output_type": "stream",
     "text": [
      "[[[1 5 6]\n",
      "  [4 0 3]]\n",
      "\n",
      " [[4 6 9]\n",
      "  [6 7 1]]]\n"
     ]
    }
   ],
   "source": [
    "#3d arrays\n",
    "arr3d = np.array([[[1,5,6],[4,0,3]],[[4,6,9],[6,7,1]]])\n",
    "print(arr3d)"
   ]
  },
  {
   "cell_type": "code",
   "execution_count": 101,
   "metadata": {},
   "outputs": [
    {
     "name": "stdout",
     "output_type": "stream",
     "text": [
      "0\n",
      "1\n"
     ]
    }
   ],
   "source": [
    "print(arr3d[0,1,1])\n",
    "print(arr3d[1,1,2])"
   ]
  }
 ],
 "metadata": {
  "kernelspec": {
   "display_name": "Python 3",
   "language": "python",
   "name": "python3"
  },
  "language_info": {
   "codemirror_mode": {
    "name": "ipython",
    "version": 3
   },
   "file_extension": ".py",
   "mimetype": "text/x-python",
   "name": "python",
   "nbconvert_exporter": "python",
   "pygments_lexer": "ipython3",
   "version": "3.12.2"
  }
 },
 "nbformat": 4,
 "nbformat_minor": 2
}
